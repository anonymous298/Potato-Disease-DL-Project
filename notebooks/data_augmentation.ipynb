{
 "cells": [
  {
   "cell_type": "code",
   "execution_count": 1,
   "metadata": {},
   "outputs": [],
   "source": [
    "import os\n",
    "from tensorflow.keras.preprocessing.image import ImageDataGenerator, img_to_array, load_img, save_img"
   ]
  },
  {
   "cell_type": "code",
   "execution_count": 2,
   "metadata": {},
   "outputs": [],
   "source": [
    "# Define paths\n",
    "base_dir = r'F:\\Projects\\Potato-Disease-End-To-End-Project\\dataset\\Village-dataset'  # Replace with your base directory\n",
    "healthy_dir = os.path.join(base_dir, 'Potato___healthy')\n",
    "augmented_dir = os.path.join(base_dir, 'Potato___healthy_augmented')\n",
    "\n",
    "# Create a new directory for augmented images\n",
    "os.makedirs(augmented_dir, exist_ok=True)"
   ]
  },
  {
   "cell_type": "code",
   "execution_count": 3,
   "metadata": {},
   "outputs": [],
   "source": [
    "datagen = ImageDataGenerator(\n",
    "    rotation_range=30,\n",
    "    width_shift_range=0.2,\n",
    "    height_shift_range=0.2,\n",
    "    shear_range=0.2,\n",
    "    zoom_range=0.2,\n",
    "    horizontal_flip=True,\n",
    "    fill_mode='nearest'\n",
    ")"
   ]
  },
  {
   "cell_type": "code",
   "execution_count": 8,
   "metadata": {},
   "outputs": [
    {
     "name": "stdout",
     "output_type": "stream",
     "text": [
      "Currently 152 images. Generating 848 more.\n"
     ]
    }
   ],
   "source": [
    "# Define target number of images\n",
    "target_count = 1000\n",
    "current_count = len(os.listdir(healthy_dir))\n",
    "images_needed = target_count - current_count\n",
    "\n",
    "print(f\"Currently {current_count} images. Generating {images_needed} more.\")"
   ]
  },
  {
   "cell_type": "code",
   "execution_count": 9,
   "metadata": {},
   "outputs": [
    {
     "name": "stdout",
     "output_type": "stream",
     "text": [
      "Augmented 848 images. Healthy directory is now balanced.\n"
     ]
    }
   ],
   "source": [
    "# Load and augment images\n",
    "image_files = os.listdir(healthy_dir)\n",
    "generated = 0\n",
    "\n",
    "for img_file in image_files:\n",
    "    img_path = os.path.join(healthy_dir, img_file)\n",
    "    img = load_img(img_path)  # Load image\n",
    "    img_array = img_to_array(img)  # Convert to array\n",
    "    img_array = img_array.reshape((1,) + img_array.shape)  # Reshape for datagen\n",
    "\n",
    "    # Generate and save augmented images\n",
    "    for batch in datagen.flow(img_array, batch_size=1, save_to_dir=augmented_dir, save_prefix='aug', save_format='jpeg'):\n",
    "        generated += 1\n",
    "        if generated >= images_needed:\n",
    "            break\n",
    "\n",
    "    if generated >= images_needed:\n",
    "        break\n",
    "\n",
    "print(f\"Augmented {generated} images. Healthy directory is now balanced.\")"
   ]
  },
  {
   "cell_type": "code",
   "execution_count": 10,
   "metadata": {},
   "outputs": [
    {
     "name": "stdout",
     "output_type": "stream",
     "text": [
      "Augmented images moved to F:\\Projects\\Potato-Disease-End-To-End-Project\\dataset\\Village-dataset\\Potato___healthy.\n"
     ]
    }
   ],
   "source": [
    "import shutil\n",
    "\n",
    "# Move augmented images to the original directory\n",
    "for file_name in os.listdir(augmented_dir):\n",
    "    src = os.path.join(augmented_dir, file_name)\n",
    "    dest = os.path.join(healthy_dir, file_name)\n",
    "    shutil.move(src, dest)\n",
    "\n",
    "print(f\"Augmented images moved to {healthy_dir}.\")"
   ]
  },
  {
   "cell_type": "code",
   "execution_count": null,
   "metadata": {},
   "outputs": [],
   "source": []
  }
 ],
 "metadata": {
  "kernelspec": {
   "display_name": "Python 3",
   "language": "python",
   "name": "python3"
  },
  "language_info": {
   "codemirror_mode": {
    "name": "ipython",
    "version": 3
   },
   "file_extension": ".py",
   "mimetype": "text/x-python",
   "name": "python",
   "nbconvert_exporter": "python",
   "pygments_lexer": "ipython3",
   "version": "3.10.16"
  }
 },
 "nbformat": 4,
 "nbformat_minor": 2
}
